{
 "cells": [
  {
   "cell_type": "markdown",
   "metadata": {},
   "source": [
    "**Name:** Ahmed Waseem  \n",
    "**Email:** ahmedwaseem42@gmail.com  \n",
    "**Github:** Ahmed25142  \n",
    "**Project:** Python Pandas Data Analysis & Data Cleaning"
   ]
  },
  {
   "cell_type": "markdown",
   "metadata": {},
   "source": [
    "**Step 1: Install Libraries**  \n",
    "1. pip install Pandas\n",
    "2. pip install numpy (Mathematical Calculations; Materices, vestors, etc)"
   ]
  },
  {
   "cell_type": "code",
   "execution_count": 31,
   "metadata": {},
   "outputs": [
    {
     "name": "stdout",
     "output_type": "stream",
     "text": [
      "Defaulting to user installation because normal site-packages is not writeable\n",
      "Requirement already satisfied: pandas in c:\\python313\\lib\\site-packages (2.2.3)\n",
      "Requirement already satisfied: numpy>=1.26.0 in c:\\python313\\lib\\site-packages (from pandas) (2.2.3)\n",
      "Requirement already satisfied: python-dateutil>=2.8.2 in c:\\python313\\lib\\site-packages (from pandas) (2.9.0.post0)\n",
      "Requirement already satisfied: pytz>=2020.1 in c:\\python313\\lib\\site-packages (from pandas) (2025.1)\n",
      "Requirement already satisfied: tzdata>=2022.7 in c:\\python313\\lib\\site-packages (from pandas) (2025.1)\n",
      "Requirement already satisfied: six>=1.5 in c:\\python313\\lib\\site-packages (from python-dateutil>=2.8.2->pandas) (1.17.0)\n",
      "Note: you may need to restart the kernel to use updated packages.\n"
     ]
    }
   ],
   "source": [
    "pip install pandas"
   ]
  },
  {
   "cell_type": "code",
   "execution_count": 32,
   "metadata": {},
   "outputs": [
    {
     "name": "stdout",
     "output_type": "stream",
     "text": [
      "Defaulting to user installation because normal site-packages is not writeable\n",
      "Requirement already satisfied: numpy in c:\\python313\\lib\\site-packages (2.2.3)\n",
      "Note: you may need to restart the kernel to use updated packages.\n"
     ]
    }
   ],
   "source": [
    "pip install numpy"
   ]
  },
  {
   "cell_type": "markdown",
   "metadata": {},
   "source": [
    "**Step 2:**  \n",
    "Import Libraries"
   ]
  },
  {
   "cell_type": "code",
   "execution_count": 33,
   "metadata": {},
   "outputs": [],
   "source": [
    "import pandas as pd\n",
    "import numpy as np"
   ]
  },
  {
   "cell_type": "markdown",
   "metadata": {},
   "source": [
    "**Step 3:**   \n",
    "Loading Dataset"
   ]
  },
  {
   "cell_type": "code",
   "execution_count": 34,
   "metadata": {},
   "outputs": [],
   "source": [
    "df=pd.read_csv('data.csv')"
   ]
  },
  {
   "cell_type": "code",
   "execution_count": 35,
   "metadata": {},
   "outputs": [
    {
     "name": "stdout",
     "output_type": "stream",
     "text": [
      "             Name Designation Gender    Age     Salary\n",
      "0         Mukhtar   Professor      M   37.0   115000.0\n",
      "1           Azziz     Teacher      M   30.0    35000.0\n",
      "2          Mohsin    Engineer      M   29.0    50000.0\n",
      "3   Naveed Fatima     Analyst      F   30.0    70000.0\n",
      "4           Babar    Engineer      F   25.0  1500000.0\n",
      "5            Aqsa   Scientist      F   22.0        NaN\n",
      "6           Rafia     Analyst      F   29.0    20000.0\n",
      "7           Samra   Scientist      F   26.0   115000.0\n",
      "8            Eman    Engineer      F   28.0    35000.0\n",
      "9        Abdullah     Teacher      M   55.0        NaN\n",
      "10          Mosib   professor      M   60.0    70000.0\n",
      "11          Ahmed    engineer      M    NaN    90000.0\n",
      "12          Ahsan     trainer      M  156.0   110000.0\n",
      "13          Wajid     teacher      M   67.0     2000.0\n",
      "14          Naeem     trainer      M   80.0    16000.0\n",
      "15         Qaisar   professor      M   20.0   170000.0\n",
      "16          Wajid    Engineer      M   85.0   190000.0\n"
     ]
    }
   ],
   "source": [
    "print(df)"
   ]
  },
  {
   "cell_type": "markdown",
   "metadata": {},
   "source": [
    "**Top five list View**"
   ]
  },
  {
   "cell_type": "code",
   "execution_count": 36,
   "metadata": {},
   "outputs": [
    {
     "data": {
      "text/html": [
       "<div>\n",
       "<style scoped>\n",
       "    .dataframe tbody tr th:only-of-type {\n",
       "        vertical-align: middle;\n",
       "    }\n",
       "\n",
       "    .dataframe tbody tr th {\n",
       "        vertical-align: top;\n",
       "    }\n",
       "\n",
       "    .dataframe thead th {\n",
       "        text-align: right;\n",
       "    }\n",
       "</style>\n",
       "<table border=\"1\" class=\"dataframe\">\n",
       "  <thead>\n",
       "    <tr style=\"text-align: right;\">\n",
       "      <th></th>\n",
       "      <th>Name</th>\n",
       "      <th>Designation</th>\n",
       "      <th>Gender</th>\n",
       "      <th>Age</th>\n",
       "      <th>Salary</th>\n",
       "    </tr>\n",
       "  </thead>\n",
       "  <tbody>\n",
       "    <tr>\n",
       "      <th>0</th>\n",
       "      <td>Mukhtar</td>\n",
       "      <td>Professor</td>\n",
       "      <td>M</td>\n",
       "      <td>37.0</td>\n",
       "      <td>115000.0</td>\n",
       "    </tr>\n",
       "    <tr>\n",
       "      <th>1</th>\n",
       "      <td>Azziz</td>\n",
       "      <td>Teacher</td>\n",
       "      <td>M</td>\n",
       "      <td>30.0</td>\n",
       "      <td>35000.0</td>\n",
       "    </tr>\n",
       "    <tr>\n",
       "      <th>2</th>\n",
       "      <td>Mohsin</td>\n",
       "      <td>Engineer</td>\n",
       "      <td>M</td>\n",
       "      <td>29.0</td>\n",
       "      <td>50000.0</td>\n",
       "    </tr>\n",
       "    <tr>\n",
       "      <th>3</th>\n",
       "      <td>Naveed Fatima</td>\n",
       "      <td>Analyst</td>\n",
       "      <td>F</td>\n",
       "      <td>30.0</td>\n",
       "      <td>70000.0</td>\n",
       "    </tr>\n",
       "    <tr>\n",
       "      <th>4</th>\n",
       "      <td>Babar</td>\n",
       "      <td>Engineer</td>\n",
       "      <td>F</td>\n",
       "      <td>25.0</td>\n",
       "      <td>1500000.0</td>\n",
       "    </tr>\n",
       "  </tbody>\n",
       "</table>\n",
       "</div>"
      ],
      "text/plain": [
       "            Name Designation Gender   Age     Salary\n",
       "0        Mukhtar   Professor      M  37.0   115000.0\n",
       "1          Azziz     Teacher      M  30.0    35000.0\n",
       "2         Mohsin    Engineer      M  29.0    50000.0\n",
       "3  Naveed Fatima     Analyst      F  30.0    70000.0\n",
       "4          Babar    Engineer      F  25.0  1500000.0"
      ]
     },
     "execution_count": 36,
     "metadata": {},
     "output_type": "execute_result"
    }
   ],
   "source": [
    "df.head()"
   ]
  },
  {
   "cell_type": "markdown",
   "metadata": {},
   "source": [
    "**Missing Data**"
   ]
  },
  {
   "cell_type": "code",
   "execution_count": 37,
   "metadata": {},
   "outputs": [
    {
     "data": {
      "text/plain": [
       "Name           0\n",
       "Designation    0\n",
       "Gender         0\n",
       "Age            1\n",
       "Salary         2\n",
       "dtype: int64"
      ]
     },
     "execution_count": 37,
     "metadata": {},
     "output_type": "execute_result"
    }
   ],
   "source": [
    "df.isnull().sum()"
   ]
  },
  {
   "cell_type": "markdown",
   "metadata": {},
   "source": [
    "**Fill Missing Value**"
   ]
  },
  {
   "cell_type": "code",
   "execution_count": 38,
   "metadata": {},
   "outputs": [
    {
     "name": "stdout",
     "output_type": "stream",
     "text": [
      "70000.0\n"
     ]
    },
    {
     "name": "stderr",
     "output_type": "stream",
     "text": [
      "C:\\Users\\Ahmed\\AppData\\Local\\Temp\\ipykernel_17768\\3824114804.py:2: FutureWarning: A value is trying to be set on a copy of a DataFrame or Series through chained assignment using an inplace method.\n",
      "The behavior will change in pandas 3.0. This inplace method will never work because the intermediate object on which we are setting values always behaves as a copy.\n",
      "\n",
      "For example, when doing 'df[col].method(value, inplace=True)', try using 'df.method({col: value}, inplace=True)' or df[col] = df[col].method(value) instead, to perform the operation inplace on the original object.\n",
      "\n",
      "\n",
      "  df['Salary'].fillna(Median_salary, inplace=True)\n"
     ]
    }
   ],
   "source": [
    "Median_salary= df['Salary'].median()\n",
    "df['Salary'].fillna(Median_salary, inplace=True)\n",
    "print(Median_salary)"
   ]
  },
  {
   "cell_type": "code",
   "execution_count": 39,
   "metadata": {},
   "outputs": [
    {
     "name": "stdout",
     "output_type": "stream",
     "text": [
      "70000.0\n"
     ]
    },
    {
     "name": "stderr",
     "output_type": "stream",
     "text": [
      "C:\\Users\\Ahmed\\AppData\\Local\\Temp\\ipykernel_17768\\2530136526.py:2: FutureWarning: A value is trying to be set on a copy of a DataFrame or Series through chained assignment using an inplace method.\n",
      "The behavior will change in pandas 3.0. This inplace method will never work because the intermediate object on which we are setting values always behaves as a copy.\n",
      "\n",
      "For example, when doing 'df[col].method(value, inplace=True)', try using 'df.method({col: value}, inplace=True)' or df[col] = df[col].method(value) instead, to perform the operation inplace on the original object.\n",
      "\n",
      "\n",
      "  df['Salary'].fillna(median_salary, inplace=True)\n"
     ]
    }
   ],
   "source": [
    "median_salary= df['Salary'].median()\n",
    "df['Salary'].fillna(median_salary, inplace=True)\n",
    "print(median_salary)"
   ]
  },
  {
   "cell_type": "code",
   "execution_count": 40,
   "metadata": {},
   "outputs": [
    {
     "name": "stdout",
     "output_type": "stream",
     "text": [
      "             Name Designation Gender    Age     Salary\n",
      "0         Mukhtar   Professor      M   37.0   115000.0\n",
      "1           Azziz     Teacher      M   30.0    35000.0\n",
      "2          Mohsin    Engineer      M   29.0    50000.0\n",
      "3   Naveed Fatima     Analyst      F   30.0    70000.0\n",
      "4           Babar    Engineer      F   25.0  1500000.0\n",
      "5            Aqsa   Scientist      F   22.0    70000.0\n",
      "6           Rafia     Analyst      F   29.0    20000.0\n",
      "7           Samra   Scientist      F   26.0   115000.0\n",
      "8            Eman    Engineer      F   28.0    35000.0\n",
      "9        Abdullah     Teacher      M   55.0    70000.0\n",
      "10          Mosib   professor      M   60.0    70000.0\n",
      "11          Ahmed    engineer      M    NaN    90000.0\n",
      "12          Ahsan     trainer      M  156.0   110000.0\n",
      "13          Wajid     teacher      M   67.0     2000.0\n",
      "14          Naeem     trainer      M   80.0    16000.0\n",
      "15         Qaisar   professor      M   20.0   170000.0\n",
      "16          Wajid    Engineer      M   85.0   190000.0\n"
     ]
    }
   ],
   "source": [
    "print(df)"
   ]
  },
  {
   "cell_type": "code",
   "execution_count": 41,
   "metadata": {},
   "outputs": [
    {
     "name": "stdout",
     "output_type": "stream",
     "text": [
      "             Name Designation Gender    Age     Salary\n",
      "0         Mukhtar   Professor      M   37.0   115000.0\n",
      "1           Azziz     Teacher      M   30.0    35000.0\n",
      "2          Mohsin    Engineer      M   29.0    50000.0\n",
      "3   Naveed Fatima     Analyst      F   30.0    70000.0\n",
      "4           Babar    Engineer      F   25.0  1500000.0\n",
      "5            Aqsa   Scientist      F   22.0    70000.0\n",
      "6           Rafia     Analyst      F   29.0    20000.0\n",
      "7           Samra   Scientist      F   26.0   115000.0\n",
      "8            Eman    Engineer      F   28.0    35000.0\n",
      "9        Abdullah     Teacher      M   55.0    70000.0\n",
      "10          Mosib   professor      M   60.0    70000.0\n",
      "11          Ahmed    engineer      M    NaN    90000.0\n",
      "12          Ahsan     trainer      M  156.0   110000.0\n",
      "13          Wajid     teacher      M   67.0     2000.0\n",
      "14          Naeem     trainer      M   80.0    16000.0\n",
      "15         Qaisar   professor      M   20.0   170000.0\n",
      "16          Wajid    Engineer      M   85.0   190000.0\n"
     ]
    }
   ],
   "source": [
    "print(df)"
   ]
  },
  {
   "cell_type": "code",
   "execution_count": 42,
   "metadata": {},
   "outputs": [],
   "source": [
    "Median_df=df['Age'].fillna(df['Age'].median())"
   ]
  },
  {
   "cell_type": "code",
   "execution_count": 43,
   "metadata": {},
   "outputs": [
    {
     "data": {
      "text/plain": [
       "0      37.0\n",
       "1      30.0\n",
       "2      29.0\n",
       "3      30.0\n",
       "4      25.0\n",
       "5      22.0\n",
       "6      29.0\n",
       "7      26.0\n",
       "8      28.0\n",
       "9      55.0\n",
       "10     60.0\n",
       "11     30.0\n",
       "12    156.0\n",
       "13     67.0\n",
       "14     80.0\n",
       "15     20.0\n",
       "16     85.0\n",
       "Name: Age, dtype: float64"
      ]
     },
     "execution_count": 43,
     "metadata": {},
     "output_type": "execute_result"
    }
   ],
   "source": [
    "Median_df"
   ]
  },
  {
   "cell_type": "code",
   "execution_count": 44,
   "metadata": {},
   "outputs": [],
   "source": [
    "Mean_df=df['Age'].fillna(df['Age'].mean())"
   ]
  },
  {
   "cell_type": "code",
   "execution_count": 45,
   "metadata": {},
   "outputs": [
    {
     "data": {
      "text/plain": [
       "0      37.0000\n",
       "1      30.0000\n",
       "2      29.0000\n",
       "3      30.0000\n",
       "4      25.0000\n",
       "5      22.0000\n",
       "6      29.0000\n",
       "7      26.0000\n",
       "8      28.0000\n",
       "9      55.0000\n",
       "10     60.0000\n",
       "11     48.6875\n",
       "12    156.0000\n",
       "13     67.0000\n",
       "14     80.0000\n",
       "15     20.0000\n",
       "16     85.0000\n",
       "Name: Age, dtype: float64"
      ]
     },
     "execution_count": 45,
     "metadata": {},
     "output_type": "execute_result"
    }
   ],
   "source": [
    "Mean_df"
   ]
  },
  {
   "cell_type": "code",
   "execution_count": 46,
   "metadata": {},
   "outputs": [
    {
     "data": {
      "text/plain": [
       "Name           0\n",
       "Designation    0\n",
       "Gender         0\n",
       "Age            1\n",
       "Salary         0\n",
       "dtype: int64"
      ]
     },
     "execution_count": 46,
     "metadata": {},
     "output_type": "execute_result"
    }
   ],
   "source": [
    "df.isnull().sum()"
   ]
  },
  {
   "cell_type": "markdown",
   "metadata": {},
   "source": [
    "**Dealing Outliers in the Dataset**  \n",
    "**Lambda Function**"
   ]
  },
  {
   "cell_type": "code",
   "execution_count": 47,
   "metadata": {},
   "outputs": [],
   "source": [
    "df['Age']=df['Age'].apply(lambda x: x if x < 120 else df['Age'].median())"
   ]
  },
  {
   "cell_type": "code",
   "execution_count": 48,
   "metadata": {},
   "outputs": [],
   "source": [
    "df['salary']=df['Salary'].apply(lambda x: x if x < 150000 else df['Salary'].median())"
   ]
  },
  {
   "cell_type": "code",
   "execution_count": 49,
   "metadata": {},
   "outputs": [],
   "source": [
    "df['Designation']= df['Designation'].str.title()"
   ]
  },
  {
   "cell_type": "code",
   "execution_count": 50,
   "metadata": {},
   "outputs": [
    {
     "data": {
      "text/plain": [
       "Gender\n",
       "F    301666.666667\n",
       "M     83454.545455\n",
       "Name: Salary, dtype: float64"
      ]
     },
     "execution_count": 50,
     "metadata": {},
     "output_type": "execute_result"
    }
   ],
   "source": [
    "avg_Gen_salary = df.groupby('Gender')['Salary'].mean()\n",
    "avg_Gen_salary"
   ]
  },
  {
   "cell_type": "code",
   "execution_count": 51,
   "metadata": {},
   "outputs": [
    {
     "data": {
      "text/plain": [
       "Designation\n",
       "Analyst       45000.0\n",
       "Engineer      90000.0\n",
       "Professor    115000.0\n",
       "Scientist     92500.0\n",
       "Teacher       35000.0\n",
       "Trainer       63000.0\n",
       "Name: Salary, dtype: float64"
      ]
     },
     "execution_count": 51,
     "metadata": {},
     "output_type": "execute_result"
    }
   ],
   "source": [
    "avg_Dept_salary = df.groupby('Designation')['Salary'].median()\n",
    "avg_Dept_salary"
   ]
  },
  {
   "cell_type": "code",
   "execution_count": 52,
   "metadata": {},
   "outputs": [
    {
     "data": {
      "text/plain": [
       "Designation\n",
       "Analyst      29.5\n",
       "Engineer     29.0\n",
       "Professor    37.0\n",
       "Scientist    24.0\n",
       "Teacher      55.0\n",
       "Trainer      55.0\n",
       "Name: Age, dtype: float64"
      ]
     },
     "execution_count": 52,
     "metadata": {},
     "output_type": "execute_result"
    }
   ],
   "source": [
    "avg_desig_age = df.groupby('Designation')['Age'].median()\n",
    "avg_desig_age"
   ]
  },
  {
   "cell_type": "code",
   "execution_count": 53,
   "metadata": {},
   "outputs": [
    {
     "data": {
      "text/html": [
       "<div>\n",
       "<style scoped>\n",
       "    .dataframe tbody tr th:only-of-type {\n",
       "        vertical-align: middle;\n",
       "    }\n",
       "\n",
       "    .dataframe tbody tr th {\n",
       "        vertical-align: top;\n",
       "    }\n",
       "\n",
       "    .dataframe thead th {\n",
       "        text-align: right;\n",
       "    }\n",
       "</style>\n",
       "<table border=\"1\" class=\"dataframe\">\n",
       "  <thead>\n",
       "    <tr style=\"text-align: right;\">\n",
       "      <th></th>\n",
       "      <th>Name</th>\n",
       "      <th>Designation</th>\n",
       "      <th>Gender</th>\n",
       "      <th>Age</th>\n",
       "      <th>Salary</th>\n",
       "      <th>salary</th>\n",
       "    </tr>\n",
       "  </thead>\n",
       "  <tbody>\n",
       "    <tr>\n",
       "      <th>0</th>\n",
       "      <td>Mukhtar</td>\n",
       "      <td>Professor</td>\n",
       "      <td>M</td>\n",
       "      <td>37.0</td>\n",
       "      <td>115000.0</td>\n",
       "      <td>115000.0</td>\n",
       "    </tr>\n",
       "    <tr>\n",
       "      <th>4</th>\n",
       "      <td>Babar</td>\n",
       "      <td>Engineer</td>\n",
       "      <td>F</td>\n",
       "      <td>25.0</td>\n",
       "      <td>1500000.0</td>\n",
       "      <td>70000.0</td>\n",
       "    </tr>\n",
       "    <tr>\n",
       "      <th>7</th>\n",
       "      <td>Samra</td>\n",
       "      <td>Scientist</td>\n",
       "      <td>F</td>\n",
       "      <td>26.0</td>\n",
       "      <td>115000.0</td>\n",
       "      <td>115000.0</td>\n",
       "    </tr>\n",
       "    <tr>\n",
       "      <th>12</th>\n",
       "      <td>Ahsan</td>\n",
       "      <td>Trainer</td>\n",
       "      <td>M</td>\n",
       "      <td>30.0</td>\n",
       "      <td>110000.0</td>\n",
       "      <td>110000.0</td>\n",
       "    </tr>\n",
       "    <tr>\n",
       "      <th>15</th>\n",
       "      <td>Qaisar</td>\n",
       "      <td>Professor</td>\n",
       "      <td>M</td>\n",
       "      <td>20.0</td>\n",
       "      <td>170000.0</td>\n",
       "      <td>70000.0</td>\n",
       "    </tr>\n",
       "    <tr>\n",
       "      <th>16</th>\n",
       "      <td>Wajid</td>\n",
       "      <td>Engineer</td>\n",
       "      <td>M</td>\n",
       "      <td>85.0</td>\n",
       "      <td>190000.0</td>\n",
       "      <td>70000.0</td>\n",
       "    </tr>\n",
       "  </tbody>\n",
       "</table>\n",
       "</div>"
      ],
      "text/plain": [
       "       Name Designation Gender   Age     Salary    salary\n",
       "0   Mukhtar   Professor      M  37.0   115000.0  115000.0\n",
       "4     Babar    Engineer      F  25.0  1500000.0   70000.0\n",
       "7     Samra   Scientist      F  26.0   115000.0  115000.0\n",
       "12    Ahsan     Trainer      M  30.0   110000.0  110000.0\n",
       "15   Qaisar   Professor      M  20.0   170000.0   70000.0\n",
       "16    Wajid    Engineer      M  85.0   190000.0   70000.0"
      ]
     },
     "execution_count": 53,
     "metadata": {},
     "output_type": "execute_result"
    }
   ],
   "source": [
    "high_salary= df[df['Salary']>100000]\n",
    "high_salary"
   ]
  },
  {
   "cell_type": "code",
   "execution_count": 54,
   "metadata": {},
   "outputs": [
    {
     "data": {
      "text/html": [
       "<div>\n",
       "<style scoped>\n",
       "    .dataframe tbody tr th:only-of-type {\n",
       "        vertical-align: middle;\n",
       "    }\n",
       "\n",
       "    .dataframe tbody tr th {\n",
       "        vertical-align: top;\n",
       "    }\n",
       "\n",
       "    .dataframe thead th {\n",
       "        text-align: right;\n",
       "    }\n",
       "</style>\n",
       "<table border=\"1\" class=\"dataframe\">\n",
       "  <thead>\n",
       "    <tr style=\"text-align: right;\">\n",
       "      <th></th>\n",
       "      <th>Name</th>\n",
       "      <th>Designation</th>\n",
       "      <th>Gender</th>\n",
       "      <th>Age</th>\n",
       "      <th>Salary</th>\n",
       "      <th>salary</th>\n",
       "    </tr>\n",
       "  </thead>\n",
       "  <tbody>\n",
       "    <tr>\n",
       "      <th>15</th>\n",
       "      <td>Qaisar</td>\n",
       "      <td>Professor</td>\n",
       "      <td>M</td>\n",
       "      <td>20.0</td>\n",
       "      <td>170000.0</td>\n",
       "      <td>70000.0</td>\n",
       "    </tr>\n",
       "    <tr>\n",
       "      <th>5</th>\n",
       "      <td>Aqsa</td>\n",
       "      <td>Scientist</td>\n",
       "      <td>F</td>\n",
       "      <td>22.0</td>\n",
       "      <td>70000.0</td>\n",
       "      <td>70000.0</td>\n",
       "    </tr>\n",
       "    <tr>\n",
       "      <th>4</th>\n",
       "      <td>Babar</td>\n",
       "      <td>Engineer</td>\n",
       "      <td>F</td>\n",
       "      <td>25.0</td>\n",
       "      <td>1500000.0</td>\n",
       "      <td>70000.0</td>\n",
       "    </tr>\n",
       "    <tr>\n",
       "      <th>7</th>\n",
       "      <td>Samra</td>\n",
       "      <td>Scientist</td>\n",
       "      <td>F</td>\n",
       "      <td>26.0</td>\n",
       "      <td>115000.0</td>\n",
       "      <td>115000.0</td>\n",
       "    </tr>\n",
       "    <tr>\n",
       "      <th>8</th>\n",
       "      <td>Eman</td>\n",
       "      <td>Engineer</td>\n",
       "      <td>F</td>\n",
       "      <td>28.0</td>\n",
       "      <td>35000.0</td>\n",
       "      <td>35000.0</td>\n",
       "    </tr>\n",
       "    <tr>\n",
       "      <th>2</th>\n",
       "      <td>Mohsin</td>\n",
       "      <td>Engineer</td>\n",
       "      <td>M</td>\n",
       "      <td>29.0</td>\n",
       "      <td>50000.0</td>\n",
       "      <td>50000.0</td>\n",
       "    </tr>\n",
       "    <tr>\n",
       "      <th>6</th>\n",
       "      <td>Rafia</td>\n",
       "      <td>Analyst</td>\n",
       "      <td>F</td>\n",
       "      <td>29.0</td>\n",
       "      <td>20000.0</td>\n",
       "      <td>20000.0</td>\n",
       "    </tr>\n",
       "    <tr>\n",
       "      <th>1</th>\n",
       "      <td>Azziz</td>\n",
       "      <td>Teacher</td>\n",
       "      <td>M</td>\n",
       "      <td>30.0</td>\n",
       "      <td>35000.0</td>\n",
       "      <td>35000.0</td>\n",
       "    </tr>\n",
       "    <tr>\n",
       "      <th>12</th>\n",
       "      <td>Ahsan</td>\n",
       "      <td>Trainer</td>\n",
       "      <td>M</td>\n",
       "      <td>30.0</td>\n",
       "      <td>110000.0</td>\n",
       "      <td>110000.0</td>\n",
       "    </tr>\n",
       "    <tr>\n",
       "      <th>3</th>\n",
       "      <td>Naveed Fatima</td>\n",
       "      <td>Analyst</td>\n",
       "      <td>F</td>\n",
       "      <td>30.0</td>\n",
       "      <td>70000.0</td>\n",
       "      <td>70000.0</td>\n",
       "    </tr>\n",
       "    <tr>\n",
       "      <th>11</th>\n",
       "      <td>Ahmed</td>\n",
       "      <td>Engineer</td>\n",
       "      <td>M</td>\n",
       "      <td>30.0</td>\n",
       "      <td>90000.0</td>\n",
       "      <td>90000.0</td>\n",
       "    </tr>\n",
       "    <tr>\n",
       "      <th>0</th>\n",
       "      <td>Mukhtar</td>\n",
       "      <td>Professor</td>\n",
       "      <td>M</td>\n",
       "      <td>37.0</td>\n",
       "      <td>115000.0</td>\n",
       "      <td>115000.0</td>\n",
       "    </tr>\n",
       "    <tr>\n",
       "      <th>9</th>\n",
       "      <td>Abdullah</td>\n",
       "      <td>Teacher</td>\n",
       "      <td>M</td>\n",
       "      <td>55.0</td>\n",
       "      <td>70000.0</td>\n",
       "      <td>70000.0</td>\n",
       "    </tr>\n",
       "    <tr>\n",
       "      <th>10</th>\n",
       "      <td>Mosib</td>\n",
       "      <td>Professor</td>\n",
       "      <td>M</td>\n",
       "      <td>60.0</td>\n",
       "      <td>70000.0</td>\n",
       "      <td>70000.0</td>\n",
       "    </tr>\n",
       "    <tr>\n",
       "      <th>13</th>\n",
       "      <td>Wajid</td>\n",
       "      <td>Teacher</td>\n",
       "      <td>M</td>\n",
       "      <td>67.0</td>\n",
       "      <td>2000.0</td>\n",
       "      <td>2000.0</td>\n",
       "    </tr>\n",
       "    <tr>\n",
       "      <th>14</th>\n",
       "      <td>Naeem</td>\n",
       "      <td>Trainer</td>\n",
       "      <td>M</td>\n",
       "      <td>80.0</td>\n",
       "      <td>16000.0</td>\n",
       "      <td>16000.0</td>\n",
       "    </tr>\n",
       "    <tr>\n",
       "      <th>16</th>\n",
       "      <td>Wajid</td>\n",
       "      <td>Engineer</td>\n",
       "      <td>M</td>\n",
       "      <td>85.0</td>\n",
       "      <td>190000.0</td>\n",
       "      <td>70000.0</td>\n",
       "    </tr>\n",
       "  </tbody>\n",
       "</table>\n",
       "</div>"
      ],
      "text/plain": [
       "             Name Designation Gender   Age     Salary    salary\n",
       "15         Qaisar   Professor      M  20.0   170000.0   70000.0\n",
       "5            Aqsa   Scientist      F  22.0    70000.0   70000.0\n",
       "4           Babar    Engineer      F  25.0  1500000.0   70000.0\n",
       "7           Samra   Scientist      F  26.0   115000.0  115000.0\n",
       "8            Eman    Engineer      F  28.0    35000.0   35000.0\n",
       "2          Mohsin    Engineer      M  29.0    50000.0   50000.0\n",
       "6           Rafia     Analyst      F  29.0    20000.0   20000.0\n",
       "1           Azziz     Teacher      M  30.0    35000.0   35000.0\n",
       "12          Ahsan     Trainer      M  30.0   110000.0  110000.0\n",
       "3   Naveed Fatima     Analyst      F  30.0    70000.0   70000.0\n",
       "11          Ahmed    Engineer      M  30.0    90000.0   90000.0\n",
       "0         Mukhtar   Professor      M  37.0   115000.0  115000.0\n",
       "9        Abdullah     Teacher      M  55.0    70000.0   70000.0\n",
       "10          Mosib   Professor      M  60.0    70000.0   70000.0\n",
       "13          Wajid     Teacher      M  67.0     2000.0    2000.0\n",
       "14          Naeem     Trainer      M  80.0    16000.0   16000.0\n",
       "16          Wajid    Engineer      M  85.0   190000.0   70000.0"
      ]
     },
     "execution_count": 54,
     "metadata": {},
     "output_type": "execute_result"
    }
   ],
   "source": [
    "df.sort_values(by='Age', ascending=True)"
   ]
  },
  {
   "cell_type": "code",
   "execution_count": 55,
   "metadata": {},
   "outputs": [
    {
     "data": {
      "text/html": [
       "<div>\n",
       "<style scoped>\n",
       "    .dataframe tbody tr th:only-of-type {\n",
       "        vertical-align: middle;\n",
       "    }\n",
       "\n",
       "    .dataframe tbody tr th {\n",
       "        vertical-align: top;\n",
       "    }\n",
       "\n",
       "    .dataframe thead th {\n",
       "        text-align: right;\n",
       "    }\n",
       "</style>\n",
       "<table border=\"1\" class=\"dataframe\">\n",
       "  <thead>\n",
       "    <tr style=\"text-align: right;\">\n",
       "      <th></th>\n",
       "      <th>Name</th>\n",
       "      <th>Designation</th>\n",
       "      <th>Gender</th>\n",
       "      <th>Age</th>\n",
       "      <th>Salary</th>\n",
       "      <th>salary</th>\n",
       "    </tr>\n",
       "  </thead>\n",
       "  <tbody>\n",
       "    <tr>\n",
       "      <th>16</th>\n",
       "      <td>Wajid</td>\n",
       "      <td>Engineer</td>\n",
       "      <td>M</td>\n",
       "      <td>85.0</td>\n",
       "      <td>190000.0</td>\n",
       "      <td>70000.0</td>\n",
       "    </tr>\n",
       "    <tr>\n",
       "      <th>14</th>\n",
       "      <td>Naeem</td>\n",
       "      <td>Trainer</td>\n",
       "      <td>M</td>\n",
       "      <td>80.0</td>\n",
       "      <td>16000.0</td>\n",
       "      <td>16000.0</td>\n",
       "    </tr>\n",
       "    <tr>\n",
       "      <th>13</th>\n",
       "      <td>Wajid</td>\n",
       "      <td>Teacher</td>\n",
       "      <td>M</td>\n",
       "      <td>67.0</td>\n",
       "      <td>2000.0</td>\n",
       "      <td>2000.0</td>\n",
       "    </tr>\n",
       "    <tr>\n",
       "      <th>10</th>\n",
       "      <td>Mosib</td>\n",
       "      <td>Professor</td>\n",
       "      <td>M</td>\n",
       "      <td>60.0</td>\n",
       "      <td>70000.0</td>\n",
       "      <td>70000.0</td>\n",
       "    </tr>\n",
       "    <tr>\n",
       "      <th>9</th>\n",
       "      <td>Abdullah</td>\n",
       "      <td>Teacher</td>\n",
       "      <td>M</td>\n",
       "      <td>55.0</td>\n",
       "      <td>70000.0</td>\n",
       "      <td>70000.0</td>\n",
       "    </tr>\n",
       "    <tr>\n",
       "      <th>0</th>\n",
       "      <td>Mukhtar</td>\n",
       "      <td>Professor</td>\n",
       "      <td>M</td>\n",
       "      <td>37.0</td>\n",
       "      <td>115000.0</td>\n",
       "      <td>115000.0</td>\n",
       "    </tr>\n",
       "    <tr>\n",
       "      <th>1</th>\n",
       "      <td>Azziz</td>\n",
       "      <td>Teacher</td>\n",
       "      <td>M</td>\n",
       "      <td>30.0</td>\n",
       "      <td>35000.0</td>\n",
       "      <td>35000.0</td>\n",
       "    </tr>\n",
       "    <tr>\n",
       "      <th>11</th>\n",
       "      <td>Ahmed</td>\n",
       "      <td>Engineer</td>\n",
       "      <td>M</td>\n",
       "      <td>30.0</td>\n",
       "      <td>90000.0</td>\n",
       "      <td>90000.0</td>\n",
       "    </tr>\n",
       "    <tr>\n",
       "      <th>3</th>\n",
       "      <td>Naveed Fatima</td>\n",
       "      <td>Analyst</td>\n",
       "      <td>F</td>\n",
       "      <td>30.0</td>\n",
       "      <td>70000.0</td>\n",
       "      <td>70000.0</td>\n",
       "    </tr>\n",
       "    <tr>\n",
       "      <th>12</th>\n",
       "      <td>Ahsan</td>\n",
       "      <td>Trainer</td>\n",
       "      <td>M</td>\n",
       "      <td>30.0</td>\n",
       "      <td>110000.0</td>\n",
       "      <td>110000.0</td>\n",
       "    </tr>\n",
       "    <tr>\n",
       "      <th>2</th>\n",
       "      <td>Mohsin</td>\n",
       "      <td>Engineer</td>\n",
       "      <td>M</td>\n",
       "      <td>29.0</td>\n",
       "      <td>50000.0</td>\n",
       "      <td>50000.0</td>\n",
       "    </tr>\n",
       "    <tr>\n",
       "      <th>6</th>\n",
       "      <td>Rafia</td>\n",
       "      <td>Analyst</td>\n",
       "      <td>F</td>\n",
       "      <td>29.0</td>\n",
       "      <td>20000.0</td>\n",
       "      <td>20000.0</td>\n",
       "    </tr>\n",
       "    <tr>\n",
       "      <th>8</th>\n",
       "      <td>Eman</td>\n",
       "      <td>Engineer</td>\n",
       "      <td>F</td>\n",
       "      <td>28.0</td>\n",
       "      <td>35000.0</td>\n",
       "      <td>35000.0</td>\n",
       "    </tr>\n",
       "    <tr>\n",
       "      <th>7</th>\n",
       "      <td>Samra</td>\n",
       "      <td>Scientist</td>\n",
       "      <td>F</td>\n",
       "      <td>26.0</td>\n",
       "      <td>115000.0</td>\n",
       "      <td>115000.0</td>\n",
       "    </tr>\n",
       "    <tr>\n",
       "      <th>4</th>\n",
       "      <td>Babar</td>\n",
       "      <td>Engineer</td>\n",
       "      <td>F</td>\n",
       "      <td>25.0</td>\n",
       "      <td>1500000.0</td>\n",
       "      <td>70000.0</td>\n",
       "    </tr>\n",
       "    <tr>\n",
       "      <th>5</th>\n",
       "      <td>Aqsa</td>\n",
       "      <td>Scientist</td>\n",
       "      <td>F</td>\n",
       "      <td>22.0</td>\n",
       "      <td>70000.0</td>\n",
       "      <td>70000.0</td>\n",
       "    </tr>\n",
       "    <tr>\n",
       "      <th>15</th>\n",
       "      <td>Qaisar</td>\n",
       "      <td>Professor</td>\n",
       "      <td>M</td>\n",
       "      <td>20.0</td>\n",
       "      <td>170000.0</td>\n",
       "      <td>70000.0</td>\n",
       "    </tr>\n",
       "  </tbody>\n",
       "</table>\n",
       "</div>"
      ],
      "text/plain": [
       "             Name Designation Gender   Age     Salary    salary\n",
       "16          Wajid    Engineer      M  85.0   190000.0   70000.0\n",
       "14          Naeem     Trainer      M  80.0    16000.0   16000.0\n",
       "13          Wajid     Teacher      M  67.0     2000.0    2000.0\n",
       "10          Mosib   Professor      M  60.0    70000.0   70000.0\n",
       "9        Abdullah     Teacher      M  55.0    70000.0   70000.0\n",
       "0         Mukhtar   Professor      M  37.0   115000.0  115000.0\n",
       "1           Azziz     Teacher      M  30.0    35000.0   35000.0\n",
       "11          Ahmed    Engineer      M  30.0    90000.0   90000.0\n",
       "3   Naveed Fatima     Analyst      F  30.0    70000.0   70000.0\n",
       "12          Ahsan     Trainer      M  30.0   110000.0  110000.0\n",
       "2          Mohsin    Engineer      M  29.0    50000.0   50000.0\n",
       "6           Rafia     Analyst      F  29.0    20000.0   20000.0\n",
       "8            Eman    Engineer      F  28.0    35000.0   35000.0\n",
       "7           Samra   Scientist      F  26.0   115000.0  115000.0\n",
       "4           Babar    Engineer      F  25.0  1500000.0   70000.0\n",
       "5            Aqsa   Scientist      F  22.0    70000.0   70000.0\n",
       "15         Qaisar   Professor      M  20.0   170000.0   70000.0"
      ]
     },
     "execution_count": 55,
     "metadata": {},
     "output_type": "execute_result"
    }
   ],
   "source": [
    "df.sort_values(by='Age', ascending=False)"
   ]
  },
  {
   "cell_type": "code",
   "execution_count": 56,
   "metadata": {},
   "outputs": [],
   "source": [
    "df.to_csv('cleaned_data.csv', index=False)"
   ]
  },
  {
   "cell_type": "code",
   "execution_count": 57,
   "metadata": {},
   "outputs": [
    {
     "data": {
      "text/html": [
       "<div>\n",
       "<style scoped>\n",
       "    .dataframe tbody tr th:only-of-type {\n",
       "        vertical-align: middle;\n",
       "    }\n",
       "\n",
       "    .dataframe tbody tr th {\n",
       "        vertical-align: top;\n",
       "    }\n",
       "\n",
       "    .dataframe thead th {\n",
       "        text-align: right;\n",
       "    }\n",
       "</style>\n",
       "<table border=\"1\" class=\"dataframe\">\n",
       "  <thead>\n",
       "    <tr style=\"text-align: right;\">\n",
       "      <th></th>\n",
       "      <th>Age</th>\n",
       "      <th>Salary</th>\n",
       "      <th>salary</th>\n",
       "    </tr>\n",
       "  </thead>\n",
       "  <tbody>\n",
       "    <tr>\n",
       "      <th>count</th>\n",
       "      <td>17.000000</td>\n",
       "      <td>1.700000e+01</td>\n",
       "      <td>17.000000</td>\n",
       "    </tr>\n",
       "    <tr>\n",
       "      <th>mean</th>\n",
       "      <td>40.176471</td>\n",
       "      <td>1.604706e+05</td>\n",
       "      <td>63411.764706</td>\n",
       "    </tr>\n",
       "    <tr>\n",
       "      <th>std</th>\n",
       "      <td>20.794336</td>\n",
       "      <td>3.490251e+05</td>\n",
       "      <td>33728.805982</td>\n",
       "    </tr>\n",
       "    <tr>\n",
       "      <th>min</th>\n",
       "      <td>20.000000</td>\n",
       "      <td>2.000000e+03</td>\n",
       "      <td>2000.000000</td>\n",
       "    </tr>\n",
       "    <tr>\n",
       "      <th>25%</th>\n",
       "      <td>28.000000</td>\n",
       "      <td>3.500000e+04</td>\n",
       "      <td>35000.000000</td>\n",
       "    </tr>\n",
       "    <tr>\n",
       "      <th>50%</th>\n",
       "      <td>30.000000</td>\n",
       "      <td>7.000000e+04</td>\n",
       "      <td>70000.000000</td>\n",
       "    </tr>\n",
       "    <tr>\n",
       "      <th>75%</th>\n",
       "      <td>55.000000</td>\n",
       "      <td>1.150000e+05</td>\n",
       "      <td>70000.000000</td>\n",
       "    </tr>\n",
       "    <tr>\n",
       "      <th>max</th>\n",
       "      <td>85.000000</td>\n",
       "      <td>1.500000e+06</td>\n",
       "      <td>115000.000000</td>\n",
       "    </tr>\n",
       "  </tbody>\n",
       "</table>\n",
       "</div>"
      ],
      "text/plain": [
       "             Age        Salary         salary\n",
       "count  17.000000  1.700000e+01      17.000000\n",
       "mean   40.176471  1.604706e+05   63411.764706\n",
       "std    20.794336  3.490251e+05   33728.805982\n",
       "min    20.000000  2.000000e+03    2000.000000\n",
       "25%    28.000000  3.500000e+04   35000.000000\n",
       "50%    30.000000  7.000000e+04   70000.000000\n",
       "75%    55.000000  1.150000e+05   70000.000000\n",
       "max    85.000000  1.500000e+06  115000.000000"
      ]
     },
     "execution_count": 57,
     "metadata": {},
     "output_type": "execute_result"
    }
   ],
   "source": [
    "df.describe()"
   ]
  },
  {
   "cell_type": "code",
   "execution_count": null,
   "metadata": {},
   "outputs": [],
   "source": []
  }
 ],
 "metadata": {
  "kernelspec": {
   "display_name": "Python 3",
   "language": "python",
   "name": "python3"
  },
  "language_info": {
   "codemirror_mode": {
    "name": "ipython",
    "version": 3
   },
   "file_extension": ".py",
   "mimetype": "text/x-python",
   "name": "python",
   "nbconvert_exporter": "python",
   "pygments_lexer": "ipython3",
   "version": "3.13.1"
  }
 },
 "nbformat": 4,
 "nbformat_minor": 2
}
